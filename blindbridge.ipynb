{
 "cells": [
  {
   "cell_type": "code",
   "execution_count": 20,
   "metadata": {},
   "outputs": [],
   "source": [
    "import csv \n",
    "import numpy as np\n",
    "import random \n",
    "import itertools \n",
    "import smtplib\n",
    "from email.mime.text import MIMEText\n",
    "from email.mime.multipart import MIMEMultipart\n",
    "from datetime import date\n",
    "from email import encoders\n",
    "import os.path\n",
    "\n",
    "new_entries_file_location = r'C:\\\\Users\\\\athomas\\\\Desktop\\\\Blind Banter\\\\new_entries.csv'\n",
    "previously_matched_pairs_file_location = r'C:\\\\Users\\\\athomas\\\\Desktop\\\\Blind Banter\\\\previously_matched_pairs.csv'\n",
    "\n",
    "# If the number of people registered is an odd number, we inject the dummy evener to make the count even.\n",
    "dummy_evener = ['Arun Thomas', 'arunthomasaloor@gmail.com'] "
   ]
  },
  {
   "cell_type": "code",
   "execution_count": 10,
   "metadata": {},
   "outputs": [
    {
     "name": "stdout",
     "output_type": "stream",
     "text": [
      "No. of entries in the registration file is 4\n",
      "\n",
      "The fresh entries are [['A'], ['B'], ['C'], ['D']]\n"
     ]
    }
   ],
   "source": [
    "fresh_entries = []\n",
    "\n",
    "with open(new_entries_file_location) as csv_file:\n",
    "    csv_reader = csv.reader(csv_file, delimiter=',')\n",
    "    for entry in csv_reader:\n",
    "        fresh_entries.append(entry)\n",
    "csv_file.close()     \n",
    "\n",
    "fresh_entries.pop(0)\n",
    "\n",
    "fresh_entries_count = len(fresh_entries)\n",
    "\n",
    "if fresh_entries_count%2 == 1:\n",
    "    fresh_entries.append(dummy_evener)\n",
    "    fresh_entries_count += 1\n",
    "\n",
    "print('No. of entries in the registration file is',fresh_entries_count)\n",
    "print('\\nThe fresh entries are',fresh_entries)"
   ]
  },
  {
   "cell_type": "code",
   "execution_count": 11,
   "metadata": {
    "scrolled": true
   },
   "outputs": [
    {
     "name": "stdout",
     "output_type": "stream",
     "text": [
      "All possible pairs:  [(['A'], ['B']), (['A'], ['C']), (['A'], ['D']), (['B'], ['C']), (['B'], ['D']), (['C'], ['D'])]\n",
      "\n",
      "No. of all possible pairs are 6\n"
     ]
    }
   ],
   "source": [
    "all_fresh_pairs = list(itertools.combinations(fresh_entries,2))\n",
    "print('All possible pairs: ',all_fresh_pairs)\n",
    "print('\\nNo. of all possible pairs are',len(all_fresh_pairs))"
   ]
  },
  {
   "cell_type": "code",
   "execution_count": 15,
   "metadata": {
    "scrolled": true
   },
   "outputs": [
    {
     "name": "stdout",
     "output_type": "stream",
     "text": [
      "Previously matched pairs:  []\n",
      "No. of previously matched pairs: 0\n",
      "\n",
      "Currently Allowable pairs:  [(['A'], ['B']), (['A'], ['C']), (['A'], ['D']), (['B'], ['C']), (['B'], ['D']), (['C'], ['D'])]\n",
      "No. of currently allowable pairs: 6\n"
     ]
    }
   ],
   "source": [
    "# Check list of all possible pairs with the output pairs from th previous run. \n",
    "# Remove previous output pairs from the possible pairs list.\n",
    "\n",
    "previous_matched_pairs = []\n",
    "with open(previously_matched_pairs_file_location, 'r') as filehandle:\n",
    "    for line in filehandle:\n",
    "        previous_matched_pairs.append(eval(line.strip()[:-1]))        \n",
    "\n",
    "allowable_fresh_pairs = [x for x in all_fresh_pairs if x not in previous_matched_pairs]\n",
    "\n",
    "print('Previously matched pairs: ',previous_matched_pairs)\n",
    "print('No. of previously matched pairs:',len(previous_matched_pairs))\n",
    "print('\\nCurrently Allowable pairs: ',allowable_fresh_pairs)\n",
    "print('No. of currently allowable pairs:',len(allowable_fresh_pairs))"
   ]
  },
  {
   "cell_type": "code",
   "execution_count": 16,
   "metadata": {},
   "outputs": [
    {
     "name": "stdout",
     "output_type": "stream",
     "text": [
      "(['A'], ['B'])\n",
      "(['C'], ['D'])\n"
     ]
    }
   ],
   "source": [
    "final_output_pairs  = []\n",
    "alphaprev = 0\n",
    "collector = []\n",
    "\n",
    "for count,item in enumerate(allowable_fresh_pairs):\n",
    "        alpha = item[0]\n",
    "        beta = item[1]\n",
    "        \n",
    "        if(count == 0): \n",
    "            #key value pairs ***\n",
    "            collector.append(alpha)\n",
    "            collector.append(beta)\n",
    "            final_output_pairs.append(item)\n",
    "            continue    \n",
    "            \n",
    "        if alpha in collector or beta in collector:\n",
    "            continue\n",
    "            \n",
    "        final_output_pairs.append(item)\n",
    "        collector.append(alpha)\n",
    "        collector.append(beta)\n",
    "        \n",
    "for i in final_output_pairs:\n",
    "    print(i)"
   ]
  },
  {
   "cell_type": "code",
   "execution_count": 17,
   "metadata": {},
   "outputs": [],
   "source": [
    "# Writing output pairs to file\n",
    "\n",
    "with open(previously_matched_pairs_file_location,'a') as fp:    \n",
    "    fp.write('\\n'.join('({},{}),'.format(x[0],x[1]) for x in final_output_pairs))\n",
    "    fp.write('\\n')"
   ]
  },
  {
   "cell_type": "markdown",
   "metadata": {},
   "source": [
    "<h3>Whatever below is purely related to the mailing mechanism.  </h3>"
   ]
  },
  {
   "cell_type": "code",
   "execution_count": 38,
   "metadata": {},
   "outputs": [],
   "source": [
    "# Mailing mechanism boilercode only\n",
    "\n",
    "from datetime import date\n",
    "\n",
    "friendship_count = 10\n",
    "\n",
    "final_pairs = [\n",
    "\n",
    "(['Arun Thomas', 'blindbridge@outlook.com'],['arun aloor', 'arunthomasaloor@gmail.com']),\n",
    "\n",
    "]\n",
    "\n",
    "sender_email_address = 'blindbridge@outlook.com'\n",
    "sender_email_password = 'K!zhak00t'\n",
    "date = date.today().strftime(\"%B %d, %Y\")\n",
    "\n",
    "def get_email_subject(name):\n",
    "    return (f'Dear {name}, Greetings from BlindBridge! Here is your new buddy!')\n",
    "\n",
    "def get_email_body(receiever, buddy, buddy_email):    \n",
    "    return '''\n",
    "Hello {receiever},\n",
    "            \n",
    "Your buddy for date is buddy.\n",
    "You can connect with buddy at buddy_email\n",
    "            \n",
    "BlindBridge has helped spark {friendship_count} new friendships so far, and we hope this is the beginning of another amazing friendship!\n",
    "\n",
    "All pair-ups are completely random, and exclusive to the Duke fraternity.\n",
    "Please reply to this mail for any feedback or if you want to unsubscribe.\n",
    "\n",
    "Take care and stay safe,\n",
    "BlindBridge.            \n",
    "            '''.format(receiever=receiever,date=date,buddy=buddy,buddy_email =buddy_email,friendship_count = friendship_count)\n"
   ]
  },
  {
   "cell_type": "code",
   "execution_count": 46,
   "metadata": {},
   "outputs": [
    {
     "name": "stdout",
     "output_type": "stream",
     "text": [
      "Done ↓\n",
      "\n",
      "Arun Thomas ←---→ arun aloor\n",
      "\n",
      "\n"
     ]
    },
    {
     "data": {
      "text/plain": [
       "(221, b'2.0.0 Service closing transmission channel')"
      ]
     },
     "execution_count": 46,
     "metadata": {},
     "output_type": "execute_result"
    }
   ],
   "source": [
    "# Mailing mechanism code\n",
    "\n",
    "session = smtplib.SMTP('smtp.outlook.com', 587) \n",
    "session.starttls() \n",
    "session.login(sender_email_address, sender_email_password)\n",
    "\n",
    "for count,match in enumerate(final_pairs):\n",
    "    \n",
    "    email_content_forA = get_email_body(match[0][0], match[1][0], match[1][1])   \n",
    "    receiver_address_forA = f'{match[0][1]}'    \n",
    "    message = MIMEMultipart()    \n",
    "    message['To'] = receiver_address_forA\n",
    "    message['Subject'] = get_email_subject(match[0][0])\n",
    "    message.attach(MIMEText(email_content_forA, 'plain'))\n",
    "    text = message.as_string()\n",
    "    session.sendmail(sender_email_address, receiver_address, text)\n",
    "    \n",
    "    \n",
    "    email_content_forB = get_email_body(match[1][0], match[0][0], match[0][1])\n",
    "    receiver_address_forB = f'{match[1][1]}'    \n",
    "    message = MIMEMultipart()    \n",
    "    message['To'] = receiver_address_forB\n",
    "    message['Subject'] = get_email_subject(match[1][0])\n",
    "    message.attach(MIMEText(email_content_forB, 'plain'))     \n",
    "    text = message.as_string()\n",
    "    session.sendmail(sender_email_address, receiver_address, text)\n",
    "    \n",
    "    if count == 0: print('Done ↓\\n')    \n",
    "    print(f'{match[0][0]} ←---→ {match[1][0]}')\n",
    "\n",
    "print('\\n')\n",
    "session.quit()  "
   ]
  },
  {
   "cell_type": "code",
   "execution_count": null,
   "metadata": {},
   "outputs": [],
   "source": []
  }
 ],
 "metadata": {
  "kernelspec": {
   "display_name": "Python 3",
   "language": "python",
   "name": "python3"
  },
  "language_info": {
   "codemirror_mode": {
    "name": "ipython",
    "version": 3
   },
   "file_extension": ".py",
   "mimetype": "text/x-python",
   "name": "python",
   "nbconvert_exporter": "python",
   "pygments_lexer": "ipython3",
   "version": "3.8.5"
  }
 },
 "nbformat": 4,
 "nbformat_minor": 4
}
